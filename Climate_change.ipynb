{
  "nbformat": 4,
  "nbformat_minor": 0,
  "metadata": {
    "colab": {
      "name": "Climate_change.ipynb",
      "provenance": [],
      "collapsed_sections": []
    },
    "kernelspec": {
      "name": "python3",
      "display_name": "Python 3"
    },
    "language_info": {
      "name": "python"
    }
  },
  "cells": [
    {
      "cell_type": "code",
      "metadata": {
        "id": "Cc2R15I7dP8e"
      },
      "source": [
        "#import the libraries\n",
        "import pandas as pd\n",
        "import seaborn as sb\n",
        "import matplotlib.pyplot as plt\n"
      ],
      "execution_count": 1,
      "outputs": []
    },
    {
      "cell_type": "code",
      "metadata": {
        "id": "2pfJzfz7g2wl"
      },
      "source": [
        "df = pd.read_csv('/content/annual.csv')"
      ],
      "execution_count": 3,
      "outputs": []
    },
    {
      "cell_type": "code",
      "metadata": {
        "colab": {
          "base_uri": "https://localhost:8080/",
          "height": 357
        },
        "id": "Z56vviJbhQOA",
        "outputId": "da15bddc-ffa8-4495-aad6-eb9a0ab9ac56"
      },
      "source": [
        "df.head(10)"
      ],
      "execution_count": 4,
      "outputs": [
        {
          "output_type": "execute_result",
          "data": {
            "text/html": [
              "<div>\n",
              "<style scoped>\n",
              "    .dataframe tbody tr th:only-of-type {\n",
              "        vertical-align: middle;\n",
              "    }\n",
              "\n",
              "    .dataframe tbody tr th {\n",
              "        vertical-align: top;\n",
              "    }\n",
              "\n",
              "    .dataframe thead th {\n",
              "        text-align: right;\n",
              "    }\n",
              "</style>\n",
              "<table border=\"1\" class=\"dataframe\">\n",
              "  <thead>\n",
              "    <tr style=\"text-align: right;\">\n",
              "      <th></th>\n",
              "      <th>Source</th>\n",
              "      <th>Year</th>\n",
              "      <th>Mean</th>\n",
              "    </tr>\n",
              "  </thead>\n",
              "  <tbody>\n",
              "    <tr>\n",
              "      <th>0</th>\n",
              "      <td>GCAG</td>\n",
              "      <td>2016</td>\n",
              "      <td>0.9363</td>\n",
              "    </tr>\n",
              "    <tr>\n",
              "      <th>1</th>\n",
              "      <td>GISTEMP</td>\n",
              "      <td>2016</td>\n",
              "      <td>0.9900</td>\n",
              "    </tr>\n",
              "    <tr>\n",
              "      <th>2</th>\n",
              "      <td>GCAG</td>\n",
              "      <td>2015</td>\n",
              "      <td>0.8998</td>\n",
              "    </tr>\n",
              "    <tr>\n",
              "      <th>3</th>\n",
              "      <td>GISTEMP</td>\n",
              "      <td>2015</td>\n",
              "      <td>0.8700</td>\n",
              "    </tr>\n",
              "    <tr>\n",
              "      <th>4</th>\n",
              "      <td>GCAG</td>\n",
              "      <td>2014</td>\n",
              "      <td>0.7408</td>\n",
              "    </tr>\n",
              "    <tr>\n",
              "      <th>5</th>\n",
              "      <td>GISTEMP</td>\n",
              "      <td>2014</td>\n",
              "      <td>0.7400</td>\n",
              "    </tr>\n",
              "    <tr>\n",
              "      <th>6</th>\n",
              "      <td>GCAG</td>\n",
              "      <td>2013</td>\n",
              "      <td>0.6679</td>\n",
              "    </tr>\n",
              "    <tr>\n",
              "      <th>7</th>\n",
              "      <td>GISTEMP</td>\n",
              "      <td>2013</td>\n",
              "      <td>0.6500</td>\n",
              "    </tr>\n",
              "    <tr>\n",
              "      <th>8</th>\n",
              "      <td>GCAG</td>\n",
              "      <td>2012</td>\n",
              "      <td>0.6240</td>\n",
              "    </tr>\n",
              "    <tr>\n",
              "      <th>9</th>\n",
              "      <td>GISTEMP</td>\n",
              "      <td>2012</td>\n",
              "      <td>0.6300</td>\n",
              "    </tr>\n",
              "  </tbody>\n",
              "</table>\n",
              "</div>"
            ],
            "text/plain": [
              "    Source  Year    Mean\n",
              "0     GCAG  2016  0.9363\n",
              "1  GISTEMP  2016  0.9900\n",
              "2     GCAG  2015  0.8998\n",
              "3  GISTEMP  2015  0.8700\n",
              "4     GCAG  2014  0.7408\n",
              "5  GISTEMP  2014  0.7400\n",
              "6     GCAG  2013  0.6679\n",
              "7  GISTEMP  2013  0.6500\n",
              "8     GCAG  2012  0.6240\n",
              "9  GISTEMP  2012  0.6300"
            ]
          },
          "metadata": {},
          "execution_count": 4
        }
      ]
    },
    {
      "cell_type": "code",
      "metadata": {
        "colab": {
          "base_uri": "https://localhost:8080/"
        },
        "id": "1cv3yhHdi3HJ",
        "outputId": "e6f5819c-687d-430c-ae78-d772439af7a3"
      },
      "source": [
        "df.shape"
      ],
      "execution_count": 5,
      "outputs": [
        {
          "output_type": "execute_result",
          "data": {
            "text/plain": [
              "(274, 3)"
            ]
          },
          "metadata": {},
          "execution_count": 5
        }
      ]
    },
    {
      "cell_type": "code",
      "metadata": {
        "id": "ngmRA-LVhrgz"
      },
      "source": [
        "df = df[df['Source']=='GISTEMP']"
      ],
      "execution_count": 6,
      "outputs": []
    },
    {
      "cell_type": "code",
      "metadata": {
        "colab": {
          "base_uri": "https://localhost:8080/",
          "height": 203
        },
        "id": "3bDn5D68jhtJ",
        "outputId": "8827412a-c203-46de-c30b-af53b04e8d4e"
      },
      "source": [
        "df.head()"
      ],
      "execution_count": 7,
      "outputs": [
        {
          "output_type": "execute_result",
          "data": {
            "text/html": [
              "<div>\n",
              "<style scoped>\n",
              "    .dataframe tbody tr th:only-of-type {\n",
              "        vertical-align: middle;\n",
              "    }\n",
              "\n",
              "    .dataframe tbody tr th {\n",
              "        vertical-align: top;\n",
              "    }\n",
              "\n",
              "    .dataframe thead th {\n",
              "        text-align: right;\n",
              "    }\n",
              "</style>\n",
              "<table border=\"1\" class=\"dataframe\">\n",
              "  <thead>\n",
              "    <tr style=\"text-align: right;\">\n",
              "      <th></th>\n",
              "      <th>Source</th>\n",
              "      <th>Year</th>\n",
              "      <th>Mean</th>\n",
              "    </tr>\n",
              "  </thead>\n",
              "  <tbody>\n",
              "    <tr>\n",
              "      <th>1</th>\n",
              "      <td>GISTEMP</td>\n",
              "      <td>2016</td>\n",
              "      <td>0.99</td>\n",
              "    </tr>\n",
              "    <tr>\n",
              "      <th>3</th>\n",
              "      <td>GISTEMP</td>\n",
              "      <td>2015</td>\n",
              "      <td>0.87</td>\n",
              "    </tr>\n",
              "    <tr>\n",
              "      <th>5</th>\n",
              "      <td>GISTEMP</td>\n",
              "      <td>2014</td>\n",
              "      <td>0.74</td>\n",
              "    </tr>\n",
              "    <tr>\n",
              "      <th>7</th>\n",
              "      <td>GISTEMP</td>\n",
              "      <td>2013</td>\n",
              "      <td>0.65</td>\n",
              "    </tr>\n",
              "    <tr>\n",
              "      <th>9</th>\n",
              "      <td>GISTEMP</td>\n",
              "      <td>2012</td>\n",
              "      <td>0.63</td>\n",
              "    </tr>\n",
              "  </tbody>\n",
              "</table>\n",
              "</div>"
            ],
            "text/plain": [
              "    Source  Year  Mean\n",
              "1  GISTEMP  2016  0.99\n",
              "3  GISTEMP  2015  0.87\n",
              "5  GISTEMP  2014  0.74\n",
              "7  GISTEMP  2013  0.65\n",
              "9  GISTEMP  2012  0.63"
            ]
          },
          "metadata": {},
          "execution_count": 7
        }
      ]
    },
    {
      "cell_type": "code",
      "metadata": {
        "id": "yHNo--iljo-1"
      },
      "source": [
        "df = df.reset_index()[['Source','Year','Mean']]"
      ],
      "execution_count": 8,
      "outputs": []
    },
    {
      "cell_type": "code",
      "metadata": {
        "colab": {
          "base_uri": "https://localhost:8080/",
          "height": 203
        },
        "id": "tWKgkKZpkkMz",
        "outputId": "0d235f91-f73b-4dba-bed7-19896bdccdd1"
      },
      "source": [
        "df.head()"
      ],
      "execution_count": 9,
      "outputs": [
        {
          "output_type": "execute_result",
          "data": {
            "text/html": [
              "<div>\n",
              "<style scoped>\n",
              "    .dataframe tbody tr th:only-of-type {\n",
              "        vertical-align: middle;\n",
              "    }\n",
              "\n",
              "    .dataframe tbody tr th {\n",
              "        vertical-align: top;\n",
              "    }\n",
              "\n",
              "    .dataframe thead th {\n",
              "        text-align: right;\n",
              "    }\n",
              "</style>\n",
              "<table border=\"1\" class=\"dataframe\">\n",
              "  <thead>\n",
              "    <tr style=\"text-align: right;\">\n",
              "      <th></th>\n",
              "      <th>Source</th>\n",
              "      <th>Year</th>\n",
              "      <th>Mean</th>\n",
              "    </tr>\n",
              "  </thead>\n",
              "  <tbody>\n",
              "    <tr>\n",
              "      <th>0</th>\n",
              "      <td>GISTEMP</td>\n",
              "      <td>2016</td>\n",
              "      <td>0.99</td>\n",
              "    </tr>\n",
              "    <tr>\n",
              "      <th>1</th>\n",
              "      <td>GISTEMP</td>\n",
              "      <td>2015</td>\n",
              "      <td>0.87</td>\n",
              "    </tr>\n",
              "    <tr>\n",
              "      <th>2</th>\n",
              "      <td>GISTEMP</td>\n",
              "      <td>2014</td>\n",
              "      <td>0.74</td>\n",
              "    </tr>\n",
              "    <tr>\n",
              "      <th>3</th>\n",
              "      <td>GISTEMP</td>\n",
              "      <td>2013</td>\n",
              "      <td>0.65</td>\n",
              "    </tr>\n",
              "    <tr>\n",
              "      <th>4</th>\n",
              "      <td>GISTEMP</td>\n",
              "      <td>2012</td>\n",
              "      <td>0.63</td>\n",
              "    </tr>\n",
              "  </tbody>\n",
              "</table>\n",
              "</div>"
            ],
            "text/plain": [
              "    Source  Year  Mean\n",
              "0  GISTEMP  2016  0.99\n",
              "1  GISTEMP  2015  0.87\n",
              "2  GISTEMP  2014  0.74\n",
              "3  GISTEMP  2013  0.65\n",
              "4  GISTEMP  2012  0.63"
            ]
          },
          "metadata": {},
          "execution_count": 9
        }
      ]
    },
    {
      "cell_type": "code",
      "metadata": {
        "colab": {
          "base_uri": "https://localhost:8080/",
          "height": 371
        },
        "id": "zTQWxbGZklI7",
        "outputId": "6b9cbfab-391d-45e7-b49b-73d4b1251d1b"
      },
      "source": [
        "sb.set()\n",
        "sb.lineplot(df['Year'],df['Mean'])\n",
        "plt.title(\"Mean Global Temperatures by Year\")"
      ],
      "execution_count": 10,
      "outputs": [
        {
          "output_type": "stream",
          "name": "stderr",
          "text": [
            "/usr/local/lib/python3.7/dist-packages/seaborn/_decorators.py:43: FutureWarning: Pass the following variables as keyword args: x, y. From version 0.12, the only valid positional argument will be `data`, and passing other arguments without an explicit keyword will result in an error or misinterpretation.\n",
            "  FutureWarning\n"
          ]
        },
        {
          "output_type": "execute_result",
          "data": {
            "text/plain": [
              "Text(0.5, 1.0, 'Mean Global Temperatures by Year')"
            ]
          },
          "metadata": {},
          "execution_count": 10
        },
        {
          "output_type": "display_data",
          "data": {
            "image/png": "[encoded data removed]",
            "text/plain": [
              "<Figure size 432x288 with 1 Axes>"
            ]
          },
          "metadata": {}
        }
      ]
    },
    {
      "cell_type": "code",
      "metadata": {
        "colab": {
          "base_uri": "https://localhost:8080/",
          "height": 357
        },
        "id": "s3jG4r7LmTVV",
        "outputId": "098713b8-cded-45d3-dd7a-301058aabe40"
      },
      "source": [
        "df_wheat = pd.read_csv('/content/wheat-yields.csv')\n",
        "df_wheat.tail(10)"
      ],
      "execution_count": 11,
      "outputs": [
        {
          "output_type": "execute_result",
          "data": {
            "text/html": [
              "<div>\n",
              "<style scoped>\n",
              "    .dataframe tbody tr th:only-of-type {\n",
              "        vertical-align: middle;\n",
              "    }\n",
              "\n",
              "    .dataframe tbody tr th {\n",
              "        vertical-align: top;\n",
              "    }\n",
              "\n",
              "    .dataframe thead th {\n",
              "        text-align: right;\n",
              "    }\n",
              "</style>\n",
              "<table border=\"1\" class=\"dataframe\">\n",
              "  <thead>\n",
              "    <tr style=\"text-align: right;\">\n",
              "      <th></th>\n",
              "      <th>Entity</th>\n",
              "      <th>Code</th>\n",
              "      <th>Year</th>\n",
              "      <th>Crops - Wheat - 15 - Yield - 5419 - hg/ha</th>\n",
              "    </tr>\n",
              "  </thead>\n",
              "  <tbody>\n",
              "    <tr>\n",
              "      <th>8091</th>\n",
              "      <td>Zimbabwe</td>\n",
              "      <td>ZWE</td>\n",
              "      <td>2009</td>\n",
              "      <td>3.0000</td>\n",
              "    </tr>\n",
              "    <tr>\n",
              "      <th>8092</th>\n",
              "      <td>Zimbabwe</td>\n",
              "      <td>ZWE</td>\n",
              "      <td>2010</td>\n",
              "      <td>2.7788</td>\n",
              "    </tr>\n",
              "    <tr>\n",
              "      <th>8093</th>\n",
              "      <td>Zimbabwe</td>\n",
              "      <td>ZWE</td>\n",
              "      <td>2011</td>\n",
              "      <td>2.6604</td>\n",
              "    </tr>\n",
              "    <tr>\n",
              "      <th>8094</th>\n",
              "      <td>Zimbabwe</td>\n",
              "      <td>ZWE</td>\n",
              "      <td>2012</td>\n",
              "      <td>2.4902</td>\n",
              "    </tr>\n",
              "    <tr>\n",
              "      <th>8095</th>\n",
              "      <td>Zimbabwe</td>\n",
              "      <td>ZWE</td>\n",
              "      <td>2013</td>\n",
              "      <td>2.3430</td>\n",
              "    </tr>\n",
              "    <tr>\n",
              "      <th>8096</th>\n",
              "      <td>Zimbabwe</td>\n",
              "      <td>ZWE</td>\n",
              "      <td>2014</td>\n",
              "      <td>2.2094</td>\n",
              "    </tr>\n",
              "    <tr>\n",
              "      <th>8097</th>\n",
              "      <td>Zimbabwe</td>\n",
              "      <td>ZWE</td>\n",
              "      <td>2015</td>\n",
              "      <td>2.0486</td>\n",
              "    </tr>\n",
              "    <tr>\n",
              "      <th>8098</th>\n",
              "      <td>Zimbabwe</td>\n",
              "      <td>ZWE</td>\n",
              "      <td>2016</td>\n",
              "      <td>1.9013</td>\n",
              "    </tr>\n",
              "    <tr>\n",
              "      <th>8099</th>\n",
              "      <td>Zimbabwe</td>\n",
              "      <td>ZWE</td>\n",
              "      <td>2017</td>\n",
              "      <td>1.7542</td>\n",
              "    </tr>\n",
              "    <tr>\n",
              "      <th>8100</th>\n",
              "      <td>Zimbabwe</td>\n",
              "      <td>ZWE</td>\n",
              "      <td>2018</td>\n",
              "      <td>2.0010</td>\n",
              "    </tr>\n",
              "  </tbody>\n",
              "</table>\n",
              "</div>"
            ],
            "text/plain": [
              "        Entity Code  Year  Crops - Wheat - 15 - Yield - 5419 - hg/ha\n",
              "8091  Zimbabwe  ZWE  2009                                     3.0000\n",
              "8092  Zimbabwe  ZWE  2010                                     2.7788\n",
              "8093  Zimbabwe  ZWE  2011                                     2.6604\n",
              "8094  Zimbabwe  ZWE  2012                                     2.4902\n",
              "8095  Zimbabwe  ZWE  2013                                     2.3430\n",
              "8096  Zimbabwe  ZWE  2014                                     2.2094\n",
              "8097  Zimbabwe  ZWE  2015                                     2.0486\n",
              "8098  Zimbabwe  ZWE  2016                                     1.9013\n",
              "8099  Zimbabwe  ZWE  2017                                     1.7542\n",
              "8100  Zimbabwe  ZWE  2018                                     2.0010"
            ]
          },
          "metadata": {},
          "execution_count": 11
        }
      ]
    },
    {
      "cell_type": "code",
      "metadata": {
        "colab": {
          "base_uri": "https://localhost:8080/",
          "height": 203
        },
        "id": "fuqH_9XInkp8",
        "outputId": "b4da99be-a516-4477-d7f1-1a49516d45d0"
      },
      "source": [
        "\n",
        "df_wheat = df_wheat.rename(columns = {'Crops - Wheat - 15 - Yield - 5419 - hg/ha': 'hg/ha'})\n",
        "df_wheat.head()\n"
      ],
      "execution_count": 12,
      "outputs": [
        {
          "output_type": "execute_result",
          "data": {
            "text/html": [
              "<div>\n",
              "<style scoped>\n",
              "    .dataframe tbody tr th:only-of-type {\n",
              "        vertical-align: middle;\n",
              "    }\n",
              "\n",
              "    .dataframe tbody tr th {\n",
              "        vertical-align: top;\n",
              "    }\n",
              "\n",
              "    .dataframe thead th {\n",
              "        text-align: right;\n",
              "    }\n",
              "</style>\n",
              "<table border=\"1\" class=\"dataframe\">\n",
              "  <thead>\n",
              "    <tr style=\"text-align: right;\">\n",
              "      <th></th>\n",
              "      <th>Entity</th>\n",
              "      <th>Code</th>\n",
              "      <th>Year</th>\n",
              "      <th>hg/ha</th>\n",
              "    </tr>\n",
              "  </thead>\n",
              "  <tbody>\n",
              "    <tr>\n",
              "      <th>0</th>\n",
              "      <td>Afghanistan</td>\n",
              "      <td>AFG</td>\n",
              "      <td>1961</td>\n",
              "      <td>1.0220</td>\n",
              "    </tr>\n",
              "    <tr>\n",
              "      <th>1</th>\n",
              "      <td>Afghanistan</td>\n",
              "      <td>AFG</td>\n",
              "      <td>1962</td>\n",
              "      <td>0.9735</td>\n",
              "    </tr>\n",
              "    <tr>\n",
              "      <th>2</th>\n",
              "      <td>Afghanistan</td>\n",
              "      <td>AFG</td>\n",
              "      <td>1963</td>\n",
              "      <td>0.8317</td>\n",
              "    </tr>\n",
              "    <tr>\n",
              "      <th>3</th>\n",
              "      <td>Afghanistan</td>\n",
              "      <td>AFG</td>\n",
              "      <td>1964</td>\n",
              "      <td>0.9510</td>\n",
              "    </tr>\n",
              "    <tr>\n",
              "      <th>4</th>\n",
              "      <td>Afghanistan</td>\n",
              "      <td>AFG</td>\n",
              "      <td>1965</td>\n",
              "      <td>0.9723</td>\n",
              "    </tr>\n",
              "  </tbody>\n",
              "</table>\n",
              "</div>"
            ],
            "text/plain": [
              "        Entity Code  Year   hg/ha\n",
              "0  Afghanistan  AFG  1961  1.0220\n",
              "1  Afghanistan  AFG  1962  0.9735\n",
              "2  Afghanistan  AFG  1963  0.8317\n",
              "3  Afghanistan  AFG  1964  0.9510\n",
              "4  Afghanistan  AFG  1965  0.9723"
            ]
          },
          "metadata": {},
          "execution_count": 12
        }
      ]
    },
    {
      "cell_type": "code",
      "metadata": {
        "colab": {
          "base_uri": "https://localhost:8080/"
        },
        "id": "dXPGCD-Oo4Ao",
        "outputId": "df3c90c0-864c-4e34-c302-02cc1bd6d293"
      },
      "source": [
        "country = set(df_wheat['Entity'].values)\n",
        "print(country)"
      ],
      "execution_count": 13,
      "outputs": [
        {
          "output_type": "stream",
          "name": "stdout",
          "text": [
            "{'Afghanistan', 'Australia & New Zealand', 'Net Food Importing Developing Countries', 'Mongolia', 'Germany', 'Bangladesh', 'Chad', 'Portugal', 'Eastern Asia', 'Pakistan', 'Montenegro', 'Bosnia and Herzegovina', 'Eastern Europe', 'Lesotho', 'South Korea', 'Europe', 'Croatia', 'Sudan', 'Uzbekistan', 'Spain', 'Georgia', 'India', 'Colombia', 'European Union', 'Nepal', 'Asia', 'South America', 'Southern Africa', 'Paraguay', 'Greece', 'Iran', 'Thailand', 'Poland', 'China', 'Denmark', 'Tunisia', 'Ethiopia PDR', 'Lithuania', 'Niger', 'Uganda', 'Estonia', 'Cyprus', 'Northern America', 'Low Income Food Deficit Countries', 'Sweden', 'Algeria', 'Armenia', 'Eritrea', 'Jordan', 'Southern Europe', 'Bulgaria', 'Eastern Africa', 'Turkmenistan', 'Mozambique', 'Argentina', 'Oceania', 'Middle Africa', 'Nigeria', 'Oman', 'Yugoslavia', 'Europe, Western', 'Tajikistan', 'Romania', 'Moldova', 'United Arab Emirates', 'Egypt', 'Central America', 'Slovenia', 'Belarus', 'Chile', 'Czechia', 'Australia', 'Botswana', 'Ireland', 'Morocco', 'Serbia', 'Syria', 'Uruguay', 'Ukraine', 'Libya', 'Brazil', 'Iraq', 'Sudan (former)', 'Yemen', 'Malta', 'Land Locked Developing Countries', 'North Korea', 'Saudi Arabia', 'Eswatini', 'Africa', 'Malawi', 'Serbia and Montenegro', 'South Eastern Asia', 'Russia', 'United States', 'Bolivia', 'Namibia', 'Kuwait', 'Least Developed Countries', 'Slovakia', 'Qatar', 'Taiwan', 'Azerbaijan', 'Northern Europe', 'Asia, Central', 'Palestine', 'New Caledonia', 'Finland', 'Myanmar', 'New Zealand', 'Austria', 'Italy', 'Mali', 'USSR', 'Zambia', 'Honduras', 'Canada', 'Japan', 'Tanzania', 'Western Africa', 'Cameroon', 'Rwanda', 'Switzerland', 'Melanesia', 'Mauritania', 'Kyrgyzstan', 'Israel', 'France', 'Ecuador', 'Peru', 'Kenya', 'Albania', 'Czechoslovakia', 'North Macedonia', 'Hungary', 'Angola', 'Turkey', 'Northern Africa', 'Belgium', 'Norway', 'Americas', 'Luxembourg', 'Mexico', 'Zimbabwe', 'Western Asia', 'Venezuela', 'Netherlands', 'Bhutan', 'Kazakhstan', 'Democratic Republic of Congo', 'Somalia', 'Latvia', 'Belgium-Luxembourg', 'World', 'South Africa', 'United Kingdom', 'Madagascar', 'Ethiopia', 'Lebanon', 'Burundi', 'Southern Asia', 'Small island developing States', 'Guatemala'}\n"
          ]
        }
      ]
    },
    {
      "cell_type": "code",
      "metadata": {
        "colab": {
          "base_uri": "https://localhost:8080/"
        },
        "id": "eLKNp_Z3pqET",
        "outputId": "916a2c5c-e9db-40ca-de57-0a207ed37390"
      },
      "source": [
        "len(country)"
      ],
      "execution_count": 14,
      "outputs": [
        {
          "output_type": "execute_result",
          "data": {
            "text/plain": [
              "163"
            ]
          },
          "metadata": {},
          "execution_count": 14
        }
      ]
    },
    {
      "cell_type": "code",
      "metadata": {
        "id": "WszT_VlHrU8U"
      },
      "source": [
        ""
      ],
      "execution_count": 14,
      "outputs": []
    },
    {
      "cell_type": "code",
      "metadata": {
        "colab": {
          "base_uri": "https://localhost:8080/",
          "height": 203
        },
        "id": "G5q4zLVFqDWH",
        "outputId": "cdab506f-94f4-47ef-9869-0c0c0d650af1"
      },
      "source": [
        "\n",
        "df_wheat = df_wheat[df_wheat['Entity']=='Nigeria'].reset_index()[['Entity','Year','hg/ha']]\n",
        "df_wheat.head()"
      ],
      "execution_count": 15,
      "outputs": [
        {
          "output_type": "execute_result",
          "data": {
            "text/html": [
              "<div>\n",
              "<style scoped>\n",
              "    .dataframe tbody tr th:only-of-type {\n",
              "        vertical-align: middle;\n",
              "    }\n",
              "\n",
              "    .dataframe tbody tr th {\n",
              "        vertical-align: top;\n",
              "    }\n",
              "\n",
              "    .dataframe thead th {\n",
              "        text-align: right;\n",
              "    }\n",
              "</style>\n",
              "<table border=\"1\" class=\"dataframe\">\n",
              "  <thead>\n",
              "    <tr style=\"text-align: right;\">\n",
              "      <th></th>\n",
              "      <th>Entity</th>\n",
              "      <th>Year</th>\n",
              "      <th>hg/ha</th>\n",
              "    </tr>\n",
              "  </thead>\n",
              "  <tbody>\n",
              "    <tr>\n",
              "      <th>0</th>\n",
              "      <td>Nigeria</td>\n",
              "      <td>1961</td>\n",
              "      <td>1.7778</td>\n",
              "    </tr>\n",
              "    <tr>\n",
              "      <th>1</th>\n",
              "      <td>Nigeria</td>\n",
              "      <td>1962</td>\n",
              "      <td>1.7778</td>\n",
              "    </tr>\n",
              "    <tr>\n",
              "      <th>2</th>\n",
              "      <td>Nigeria</td>\n",
              "      <td>1963</td>\n",
              "      <td>1.7778</td>\n",
              "    </tr>\n",
              "    <tr>\n",
              "      <th>3</th>\n",
              "      <td>Nigeria</td>\n",
              "      <td>1964</td>\n",
              "      <td>1.8182</td>\n",
              "    </tr>\n",
              "    <tr>\n",
              "      <th>4</th>\n",
              "      <td>Nigeria</td>\n",
              "      <td>1965</td>\n",
              "      <td>1.8182</td>\n",
              "    </tr>\n",
              "  </tbody>\n",
              "</table>\n",
              "</div>"
            ],
            "text/plain": [
              "    Entity  Year   hg/ha\n",
              "0  Nigeria  1961  1.7778\n",
              "1  Nigeria  1962  1.7778\n",
              "2  Nigeria  1963  1.7778\n",
              "3  Nigeria  1964  1.8182\n",
              "4  Nigeria  1965  1.8182"
            ]
          },
          "metadata": {},
          "execution_count": 15
        }
      ]
    },
    {
      "cell_type": "code",
      "metadata": {
        "colab": {
          "base_uri": "https://localhost:8080/",
          "height": 371
        },
        "id": "S7zsM1ZDqkhY",
        "outputId": "139d7ac5-e601-484d-dcd2-24478f39c5c9"
      },
      "source": [
        "sb.set()\n",
        "sb.lineplot(df_wheat['Year'],df_wheat['hg/ha'])\n",
        "plt.title(\"Annual sugar cane production in Nigeria\")"
      ],
      "execution_count": 16,
      "outputs": [
        {
          "output_type": "stream",
          "name": "stderr",
          "text": [
            "/usr/local/lib/python3.7/dist-packages/seaborn/_decorators.py:43: FutureWarning: Pass the following variables as keyword args: x, y. From version 0.12, the only valid positional argument will be `data`, and passing other arguments without an explicit keyword will result in an error or misinterpretation.\n",
            "  FutureWarning\n"
          ]
        },
        {
          "output_type": "execute_result",
          "data": {
            "text/plain": [
              "Text(0.5, 1.0, 'Annual sugar cane production in Nigeria')"
            ]
          },
          "metadata": {},
          "execution_count": 16
        },
        {
          "output_type": "display_data",
          "data": {
            "image/png": "[encoded data removed]",
            "text/plain": [
              "<Figure size 432x288 with 1 Axes>"
            ]
          },
          "metadata": {}
        }
      ]
    },
    {
      "cell_type": "code",
      "metadata": {
        "colab": {
          "base_uri": "https://localhost:8080/",
          "height": 389
        },
        "id": "xa6QLYN5tfqz",
        "outputId": "e93fa9e5-50fc-4fe3-ed5d-fb245e02b444"
      },
      "source": [
        "sb.set()\n",
        "sb.lineplot(df['Year'],df['Mean'])\n",
        "sb.lineplot(df_wheat['Year'],df_wheat['hg/ha'])\n"
      ],
      "execution_count": 17,
      "outputs": [
        {
          "output_type": "stream",
          "name": "stderr",
          "text": [
            "/usr/local/lib/python3.7/dist-packages/seaborn/_decorators.py:43: FutureWarning: Pass the following variables as keyword args: x, y. From version 0.12, the only valid positional argument will be `data`, and passing other arguments without an explicit keyword will result in an error or misinterpretation.\n",
            "  FutureWarning\n",
            "/usr/local/lib/python3.7/dist-packages/seaborn/_decorators.py:43: FutureWarning: Pass the following variables as keyword args: x, y. From version 0.12, the only valid positional argument will be `data`, and passing other arguments without an explicit keyword will result in an error or misinterpretation.\n",
            "  FutureWarning\n"
          ]
        },
        {
          "output_type": "execute_result",
          "data": {
            "text/plain": [
              "<matplotlib.axes._subplots.AxesSubplot at 0x7fe8aa5b7510>"
            ]
          },
          "metadata": {},
          "execution_count": 17
        },
        {
          "output_type": "display_data",
          "data": {
            "image/png": "[encoded data removed]",
            "text/plain": [
              "<Figure size 432x288 with 1 Axes>"
            ]
          },
          "metadata": {}
        }
      ]
    },
    {
      "cell_type": "markdown",
      "metadata": {
        "id": "zUWVWMGAxvYF"
      },
      "source": [
        "# Results\n",
        "\n",
        "1. So as we can see in the above graph, the rise in temperature has seriously affected in the wheat production of nigeria. There is a sudden drop from 1990 and then the slope goes negative in wheat production  :(\n"
      ]
    },
    {
      "cell_type": "code",
      "metadata": {
        "id": "Eu3K--hqxxWx"
      },
      "source": [
        ""
      ],
      "execution_count": 17,
      "outputs": []
    }
  ]
}